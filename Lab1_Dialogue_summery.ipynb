{
 "cells": [
  {
   "cell_type": "markdown",
   "id": "b08d915b-2f6c-4378-ad4a-45a0f0ae9f57",
   "metadata": {},
   "source": [
    "First Import Some Baisc Library"
   ]
  },
  {
   "cell_type": "code",
   "execution_count": 12,
   "id": "db9542cf-4e2d-4f28-b632-69fba5820506",
   "metadata": {},
   "outputs": [],
   "source": [
    "from datasets import load_dataset\n",
    "import transformers\n",
    "from transformers import AutoModelForSeq2SeqLM\n",
    "from transformers import AutoTokenizer\n",
    "from transformers import GenerationConfig"
   ]
  },
  {
   "cell_type": "code",
   "execution_count": 14,
   "id": "283bcfd5-0ae4-4c30-949e-0d650e1c396e",
   "metadata": {},
   "outputs": [
    {
     "name": "stdout",
     "output_type": "stream",
     "text": [
      "3\n"
     ]
    }
   ],
   "source": [
    "huggingface_dataset_name=\"knkarthick/dialogsum\"\n",
    "dataset=load_dataset(huggingface_dataset_name)\n",
    "print('3')"
   ]
  },
  {
   "cell_type": "markdown",
   "id": "07051656-fd95-431e-a88e-62afb4eaf1e6",
   "metadata": {},
   "source": [
    "Start Print Some incatces From dataset"
   ]
  },
  {
   "cell_type": "code",
   "execution_count": 19,
   "id": "59bda43e-7ad6-4806-a2ea-c472a684c023",
   "metadata": {},
   "outputs": [
    {
     "name": "stdout",
     "output_type": "stream",
     "text": [
      "___________________________________________________________________________________________________\n",
      "Example 1\n",
      "___________________________________________________________________________________________________\n",
      "Input Dialouge\n",
      "#Person1#: What time is it, Tom?\n",
      "#Person2#: Just a minute. It's ten to nine by my watch.\n",
      "#Person1#: Is it? I had no idea it was so late. I must be off now.\n",
      "#Person2#: What's the hurry?\n",
      "#Person1#: I must catch the nine-thirty train.\n",
      "#Person2#: You've plenty of time yet. The railway station is very close. It won't take more than twenty minutes to get there.\n",
      "___________________________________________________________________________________________________\n",
      "Base Line Human Summery\n",
      "#Person1# is in a hurry to catch a train. Tom tells #Person1# there is plenty of time.\n",
      "___________________________________________________________________________________________________\n",
      "\n",
      "___________________________________________________________________________________________________\n",
      "Example 2\n",
      "___________________________________________________________________________________________________\n",
      "Input Dialouge\n",
      "#Person1#: Have you considered upgrading your system?\n",
      "#Person2#: Yes, but I'm not sure what exactly I would need.\n",
      "#Person1#: You could consider adding a painting program to your software. It would allow you to make up your own flyers and banners for advertising.\n",
      "#Person2#: That would be a definite bonus.\n",
      "#Person1#: You might also want to upgrade your hardware because it is pretty outdated now.\n",
      "#Person2#: How can we do that?\n",
      "#Person1#: You'd probably need a faster processor, to begin with. And you also need a more powerful hard disc, more memory and a faster modem. Do you have a CD-ROM drive?\n",
      "#Person2#: No.\n",
      "#Person1#: Then you might want to add a CD-ROM drive too, because most new software programs are coming out on Cds.\n",
      "#Person2#: That sounds great. Thanks.\n",
      "___________________________________________________________________________________________________\n",
      "Base Line Human Summery\n",
      "#Person1# teaches #Person2# how to upgrade software and hardware in #Person2#'s system.\n",
      "___________________________________________________________________________________________________\n",
      "\n"
     ]
    }
   ],
   "source": [
    "example_indcies=[40,200]\n",
    "dash_line='_'.join('' for x in range(100))\n",
    "for i,index in enumerate(example_indcies):\n",
    "    print(dash_line)\n",
    "    print('Example',i+1)\n",
    "    print(dash_line)\n",
    "    print('Input Dialouge')\n",
    "    print(dataset['test'][index]['dialogue'])\n",
    "    print(dash_line)\n",
    "    print('Base Line Human Summery')\n",
    "    print(dataset['test'][index]['summary'])\n",
    "    print(dash_line)\n",
    "    print()"
   ]
  },
  {
   "cell_type": "markdown",
   "id": "22a305f7-fe0f-4803-915f-8a4006ba46b6",
   "metadata": {},
   "source": [
    "Above Data Sets is approch is about How human Summery is to compare it between Model Summery Now let's see How Model will perform"
   ]
  },
  {
   "cell_type": "code",
   "execution_count": 20,
   "id": "d7eeb8a7-f93f-469d-a737-b3f2a01da25e",
   "metadata": {},
   "outputs": [
    {
     "name": "stderr",
     "output_type": "stream",
     "text": [
      "D:\\Huggingface\\venv\\Lib\\site-packages\\huggingface_hub\\file_download.py:1132: FutureWarning: `resume_download` is deprecated and will be removed in version 1.0.0. Downloads always resume when possible. If you want to force a new download, use `force_download=True`.\n",
      "  warnings.warn(\n",
      "D:\\Huggingface\\venv\\Lib\\site-packages\\huggingface_hub\\file_download.py:1132: FutureWarning: `resume_download` is deprecated and will be removed in version 1.0.0. Downloads always resume when possible. If you want to force a new download, use `force_download=True`.\n",
      "  warnings.warn(\n"
     ]
    },
    {
     "data": {
      "text/plain": [
       "3"
      ]
     },
     "execution_count": 20,
     "metadata": {},
     "output_type": "execute_result"
    }
   ],
   "source": [
    "model_name=\"google/flan-t5-base\"\n",
    "model=AutoModelForSeq2SeqLM.from_pretrained(model_name)\n",
    "3"
   ]
  },
  {
   "cell_type": "markdown",
   "id": "878b809b-eb4d-43d3-9224-3a3c02f63f35",
   "metadata": {},
   "source": [
    "Now let's import Tokenizer/To meke encoding for word or Decode to convert Word to empedding or (Vector)"
   ]
  },
  {
   "cell_type": "code",
   "execution_count": 21,
   "id": "9b9cdef5-d889-4d64-b50e-cc0c1cecf9b4",
   "metadata": {},
   "outputs": [
    {
     "data": {
      "text/plain": [
       "3"
      ]
     },
     "execution_count": 21,
     "metadata": {},
     "output_type": "execute_result"
    }
   ],
   "source": [
    "tokenizer=AutoTokenizer.from_pretrained(model_name,use_fast=True)\n",
    "3"
   ]
  },
  {
   "cell_type": "markdown",
   "id": "b3d413c0-1f5b-4e50-8d9f-5137e0da9192",
   "metadata": {},
   "source": [
    "Now let's make small Test"
   ]
  },
  {
   "cell_type": "code",
   "execution_count": 22,
   "id": "b0a53132-3496-46e2-b2bc-3313a592d4e1",
   "metadata": {},
   "outputs": [
    {
     "name": "stdout",
     "output_type": "stream",
     "text": [
      "Encoded Sentence:\n",
      "tensor([363,  97,  19,  34,   3,   6, 371,   9,  63,   9,  26,   1])\n",
      "\n",
      "Decoded Sentence\n",
      "What time is it,Fayad\n"
     ]
    }
   ],
   "source": [
    "sentence=\"What time is it ,Fayad\"\n",
    "sentence_encoded=tokenizer(sentence,return_tensors='pt')\n",
    "sentence_decoded=tokenizer.decode(\n",
    "    sentence_encoded[\"input_ids\"][0],\n",
    "    skip_special_tokens=True\n",
    ")\n",
    "print('Encoded Sentence:')\n",
    "print(sentence_encoded[\"input_ids\"][0])\n",
    "print('\\nDecoded Sentence')\n",
    "print(sentence_decoded)"
   ]
  },
  {
   "cell_type": "markdown",
   "id": "a0eb59e9-63b9-4551-825e-989fec26d865",
   "metadata": {},
   "source": [
    "Now it's time to explore How Our LLM Mosel perform Summarize !!"
   ]
  },
  {
   "cell_type": "code",
   "execution_count": 23,
   "id": "08012084-fd36-4253-857c-5aa1e6432347",
   "metadata": {},
   "outputs": [
    {
     "name": "stdout",
     "output_type": "stream",
     "text": [
      "___________________________________________________________________________________________________\n",
      "Example 1\n",
      "___________________________________________________________________________________________________\n",
      "Input Prompet:\n",
      "#Person1#: What time is it, Tom?\n",
      "#Person2#: Just a minute. It's ten to nine by my watch.\n",
      "#Person1#: Is it? I had no idea it was so late. I must be off now.\n",
      "#Person2#: What's the hurry?\n",
      "#Person1#: I must catch the nine-thirty train.\n",
      "#Person2#: You've plenty of time yet. The railway station is very close. It won't take more than twenty minutes to get there.\n",
      "___________________________________________________________________________________________________\n",
      "Human Summery:\n",
      "#Person1# is in a hurry to catch a train. Tom tells #Person1# there is plenty of time.\n",
      "___________________________________________________________________________________________________\n",
      "Model Summery With No Prompet Engineering:\n",
      "Person1: It's ten to nine.\n",
      "___________________________________________________________________________________________________\n",
      "Example 2\n",
      "___________________________________________________________________________________________________\n",
      "Input Prompet:\n",
      "#Person1#: Have you considered upgrading your system?\n",
      "#Person2#: Yes, but I'm not sure what exactly I would need.\n",
      "#Person1#: You could consider adding a painting program to your software. It would allow you to make up your own flyers and banners for advertising.\n",
      "#Person2#: That would be a definite bonus.\n",
      "#Person1#: You might also want to upgrade your hardware because it is pretty outdated now.\n",
      "#Person2#: How can we do that?\n",
      "#Person1#: You'd probably need a faster processor, to begin with. And you also need a more powerful hard disc, more memory and a faster modem. Do you have a CD-ROM drive?\n",
      "#Person2#: No.\n",
      "#Person1#: Then you might want to add a CD-ROM drive too, because most new software programs are coming out on Cds.\n",
      "#Person2#: That sounds great. Thanks.\n",
      "___________________________________________________________________________________________________\n",
      "Human Summery:\n",
      "#Person1# teaches #Person2# how to upgrade software and hardware in #Person2#'s system.\n",
      "___________________________________________________________________________________________________\n",
      "Model Summery With No Prompet Engineering:\n",
      "#Person1#: I'm thinking of upgrading my computer.\n"
     ]
    }
   ],
   "source": [
    "for i,index in enumerate(example_indcies):\n",
    "    dialogue=dataset['test'][index]['dialogue']\n",
    "    summary=dataset['test'][index]['summary']\n",
    "    inputs=tokenizer(dialogue,return_tensors='pt')\n",
    "    output=tokenizer.decode(\n",
    "        model.generate(\n",
    "            inputs[\"input_ids\"],\n",
    "            max_new_tokens=50,\n",
    "        )[0],\n",
    "        skip_special_tokens=True\n",
    "    )\n",
    "    print(dash_line)\n",
    "    print('Example',i+1)\n",
    "    print(dash_line)\n",
    "    print(f'Input Prompet:\\n{dialogue}')\n",
    "    print(dash_line)\n",
    "    print(f'Human Summery:\\n{summary}')\n",
    "    print(dash_line)\n",
    "    print(f'Model Summery With No Prompet Engineering:\\n{output}')\n"
   ]
  },
  {
   "cell_type": "markdown",
   "id": "befe1bb0-ce81-4477-95bb-f0ec6c145b01",
   "metadata": {},
   "source": [
    "As we Seen The Model Does Not perform Well So We will Use Prompet Engineering"
   ]
  },
  {
   "cell_type": "code",
   "execution_count": 24,
   "id": "c106e4a9-e623-4f6e-af46-1c4940d76b71",
   "metadata": {},
   "outputs": [
    {
     "name": "stdout",
     "output_type": "stream",
     "text": [
      "___________________________________________________________________________________________________\n",
      "Example 1\n",
      "___________________________________________________________________________________________________\n",
      "Input Prompet:\n",
      "#Person1#: What time is it, Tom?\n",
      "#Person2#: Just a minute. It's ten to nine by my watch.\n",
      "#Person1#: Is it? I had no idea it was so late. I must be off now.\n",
      "#Person2#: What's the hurry?\n",
      "#Person1#: I must catch the nine-thirty train.\n",
      "#Person2#: You've plenty of time yet. The railway station is very close. It won't take more than twenty minutes to get there.\n",
      "___________________________________________________________________________________________________\n",
      "Human Summery:\n",
      "#Person1# is in a hurry to catch a train. Tom tells #Person1# there is plenty of time.\n",
      "___________________________________________________________________________________________________\n",
      "Model Summery With Prompet Engineering Zero_shot:\n",
      "The Follwing Conversation is a conversation about the Follwing Festival.\n",
      "___________________________________________________________________________________________________\n",
      "Example 2\n",
      "___________________________________________________________________________________________________\n",
      "Input Prompet:\n",
      "#Person1#: Have you considered upgrading your system?\n",
      "#Person2#: Yes, but I'm not sure what exactly I would need.\n",
      "#Person1#: You could consider adding a painting program to your software. It would allow you to make up your own flyers and banners for advertising.\n",
      "#Person2#: That would be a definite bonus.\n",
      "#Person1#: You might also want to upgrade your hardware because it is pretty outdated now.\n",
      "#Person2#: How can we do that?\n",
      "#Person1#: You'd probably need a faster processor, to begin with. And you also need a more powerful hard disc, more memory and a faster modem. Do you have a CD-ROM drive?\n",
      "#Person2#: No.\n",
      "#Person1#: Then you might want to add a CD-ROM drive too, because most new software programs are coming out on Cds.\n",
      "#Person2#: That sounds great. Thanks.\n",
      "___________________________________________________________________________________________________\n",
      "Human Summery:\n",
      "#Person1# teaches #Person2# how to upgrade software and hardware in #Person2#'s system.\n",
      "___________________________________________________________________________________________________\n",
      "Model Summery With Prompet Engineering Zero_shot:\n",
      "#Person1#: Have you considered upgrading your system? #Person2#: Yes, but I'm not sure what exactly I would need. #Person1#: You could add a painting program to your software.\n"
     ]
    }
   ],
   "source": [
    "for i,index in enumerate(example_indcies):\n",
    "    dialogue=dataset['test'][index]['dialogue']\n",
    "    summary=dataset['test'][index]['summary']\n",
    "    prompet=f\"\"\"\n",
    "    Summerize the Follwing Conversation\n",
    "    {dialogue}\n",
    "\n",
    "    Summary:\n",
    "    \n",
    "    \"\"\"\n",
    "    inputs=tokenizer(prompet,return_tensors='pt')\n",
    "    output=tokenizer.decode(\n",
    "        model.generate(\n",
    "            inputs[\"input_ids\"],\n",
    "            max_new_tokens=50,\n",
    "        )[0],\n",
    "        skip_special_tokens=True\n",
    "    )\n",
    "    print(dash_line)\n",
    "    print('Example',i+1)\n",
    "    print(dash_line)\n",
    "    print(f'Input Prompet:\\n{dialogue}')\n",
    "    print(dash_line)\n",
    "    print(f'Human Summery:\\n{summary}')\n",
    "    print(dash_line)\n",
    "    print(f'Model Summery With Prompet Engineering Zero_shot:\\n{output}')\n"
   ]
  },
  {
   "cell_type": "code",
   "execution_count": 9,
   "id": "5cb6f40d-12f9-492e-8001-a31758b26589",
   "metadata": {},
   "outputs": [
    {
     "name": "stdout",
     "output_type": "stream",
     "text": [
      "___________________________________________________________________________________________________\n",
      "Example 1\n",
      "___________________________________________________________________________________________________\n",
      "Input Prompet:\n",
      "#Person1#: What time is it, Tom?\n",
      "#Person2#: Just a minute. It's ten to nine by my watch.\n",
      "#Person1#: Is it? I had no idea it was so late. I must be off now.\n",
      "#Person2#: What's the hurry?\n",
      "#Person1#: I must catch the nine-thirty train.\n",
      "#Person2#: You've plenty of time yet. The railway station is very close. It won't take more than twenty minutes to get there.\n",
      "___________________________________________________________________________________________________\n",
      "Human Summery:\n",
      "#Person1# is in a hurry to catch a train. Tom tells #Person1# there is plenty of time.\n",
      "___________________________________________________________________________________________________\n",
      "Model Summery With Prompet Engineering Zero_Shot:\n",
      "The Follwing Conversation\n",
      "___________________________________________________________________________________________________\n",
      "Example 2\n",
      "___________________________________________________________________________________________________\n",
      "Input Prompet:\n",
      "#Person1#: Have you considered upgrading your system?\n",
      "#Person2#: Yes, but I'm not sure what exactly I would need.\n",
      "#Person1#: You could consider adding a painting program to your software. It would allow you to make up your own flyers and banners for advertising.\n",
      "#Person2#: That would be a definite bonus.\n",
      "#Person1#: You might also want to upgrade your hardware because it is pretty outdated now.\n",
      "#Person2#: How can we do that?\n",
      "#Person1#: You'd probably need a faster processor, to begin with. And you also need a more powerful hard disc, more memory and a faster modem. Do you have a CD-ROM drive?\n",
      "#Person2#: No.\n",
      "#Person1#: Then you might want to add a CD-ROM drive too, because most new software programs are coming out on Cds.\n",
      "#Person2#: That sounds great. Thanks.\n",
      "___________________________________________________________________________________________________\n",
      "Human Summery:\n",
      "#Person1# teaches #Person2# how to upgrade software and hardware in #Person2#'s system.\n",
      "___________________________________________________________________________________________________\n",
      "Model Summery With Prompet Engineering Zero_Shot:\n",
      "#Person1#: Have you considered upgrading your system? #Person2#: Yes, but I'm not sure what exactly I would need. #Person1#: You could also consider adding a painting program to your\n"
     ]
    }
   ],
   "source": [
    "for i,index in enumerate(example_indcies):\n",
    "    dialogue=dataset['test'][index]['dialogue']\n",
    "    summary=dataset['test'][index]['summary']\n",
    "    prompet=f\"\"\"\n",
    "    Summerize the Follwing Conversation\n",
    "    {dialogue}\n",
    "\n",
    "    Summary:\n",
    "    What's Was Going On\n",
    "    \n",
    "    \"\"\"\n",
    "    inputs=tokenizer(prompet,return_tensors='pt')\n",
    "    output=tokenizer.decode(\n",
    "        model.generate(\n",
    "            inputs[\"input_ids\"],\n",
    "            max_new_tokens=50,\n",
    "        )[0],\n",
    "        skip_special_tokens=True\n",
    "    )\n",
    "    print(dash_line)\n",
    "    print('Example',i+1)\n",
    "    print(dash_line)\n",
    "    print(f'Input Prompet:\\n{dialogue}')\n",
    "    print(dash_line)\n",
    "    print(f'Human Summery:\\n{summary}')\n",
    "    print(dash_line)\n",
    "    print(f'Model Summery With Prompet Engineering Zero_Shot:\\n{output}')\n"
   ]
  },
  {
   "cell_type": "code",
   "execution_count": 10,
   "id": "f6c917d5-ab98-408f-ab88-898b0ad424a2",
   "metadata": {},
   "outputs": [
    {
     "name": "stdout",
     "output_type": "stream",
     "text": [
      "___________________________________________________________________________________________________\n",
      "Example 1\n",
      "___________________________________________________________________________________________________\n",
      "Input Prompet:\n",
      "#Person1#: What time is it, Tom?\n",
      "#Person2#: Just a minute. It's ten to nine by my watch.\n",
      "#Person1#: Is it? I had no idea it was so late. I must be off now.\n",
      "#Person2#: What's the hurry?\n",
      "#Person1#: I must catch the nine-thirty train.\n",
      "#Person2#: You've plenty of time yet. The railway station is very close. It won't take more than twenty minutes to get there.\n",
      "___________________________________________________________________________________________________\n",
      "Human Summery:\n",
      "#Person1# is in a hurry to catch a train. Tom tells #Person1# there is plenty of time.\n",
      "___________________________________________________________________________________________________\n",
      "Model Summery With Prompet Engineering(One-Shot):\n",
      "Summary: Tom tells #Person1# there is plenty of time.\n",
      "___________________________________________________________________________________________________\n",
      "Example 2\n",
      "___________________________________________________________________________________________________\n",
      "Input Prompet:\n",
      "#Person1#: Have you considered upgrading your system?\n",
      "#Person2#: Yes, but I'm not sure what exactly I would need.\n",
      "#Person1#: You could consider adding a painting program to your software. It would allow you to make up your own flyers and banners for advertising.\n",
      "#Person2#: That would be a definite bonus.\n",
      "#Person1#: You might also want to upgrade your hardware because it is pretty outdated now.\n",
      "#Person2#: How can we do that?\n",
      "#Person1#: You'd probably need a faster processor, to begin with. And you also need a more powerful hard disc, more memory and a faster modem. Do you have a CD-ROM drive?\n",
      "#Person2#: No.\n",
      "#Person1#: Then you might want to add a CD-ROM drive too, because most new software programs are coming out on Cds.\n",
      "#Person2#: That sounds great. Thanks.\n",
      "___________________________________________________________________________________________________\n",
      "Human Summery:\n",
      "#Person1# teaches #Person2# how to upgrade software and hardware in #Person2#'s system.\n",
      "___________________________________________________________________________________________________\n",
      "Model Summery With Prompet Engineering(One-Shot):\n",
      "#Person1# teaches #Person2# how to upgrade software and hardware in #Person2#'s system.\n"
     ]
    }
   ],
   "source": [
    "for i,index in enumerate(example_indcies):\n",
    "    dialogue=dataset['test'][index]['dialogue']\n",
    "    summary=dataset['test'][index]['summary']\n",
    "    prompet=f\"\"\"\n",
    "    Summerize the Follwing Conversation\n",
    "    {dialogue}\n",
    "\n",
    "    Summary:\n",
    "    {summary}\n",
    "    \"\"\"\n",
    "    inputs=tokenizer(prompet,return_tensors='pt')\n",
    "    output=tokenizer.decode(\n",
    "        model.generate(\n",
    "            inputs[\"input_ids\"],\n",
    "            max_new_tokens=50,\n",
    "        )[0],\n",
    "        skip_special_tokens=True\n",
    "    )\n",
    "    print(dash_line)\n",
    "    print('Example',i+1)\n",
    "    print(dash_line)\n",
    "    print(f'Input Prompet:\\n{dialogue}')\n",
    "    print(dash_line)\n",
    "    print(f'Human Summery:\\n{summary}')\n",
    "    print(dash_line)\n",
    "    print(f'Model Summery With Prompet Engineering(One-Shot):\\n{output}')\n"
   ]
  },
  {
   "cell_type": "markdown",
   "id": "33bb963a-a3a4-4c9b-9739-ca0aa6d7548a",
   "metadata": {},
   "source": [
    "Now Make function to make somr prompets to train it at few shots and one shot "
   ]
  },
  {
   "cell_type": "code",
   "execution_count": 9,
   "id": "4d372561-f732-4fd1-a717-5cae651a9ac0",
   "metadata": {},
   "outputs": [
    {
     "data": {
      "text/plain": [
       "3"
      ]
     },
     "execution_count": 9,
     "metadata": {},
     "output_type": "execute_result"
    }
   ],
   "source": [
    "def make_prompet(example_indcies_full,example_indcies_to_summarize): \n",
    "    prompet=''\n",
    "    for index in example_indcies_full:\n",
    "        dialogue=dataset['test'][index]['dialogue']\n",
    "        summery=dataset['test'][index]['summary']\n",
    "        prompet+=f\"\"\"\n",
    "Dialogue:\n",
    "{dialogue}\n",
    "\n",
    "what's going On\n",
    "{summery}\n",
    "        \"\"\"\n",
    "    dialogue=dataset['test'][example_indcies_to_summarize]['dialogue']\n",
    "    prompet+=f\"\"\"\n",
    "Dialogue:\n",
    "{dialogue}\n",
    "\n",
    "what's going On\n",
    "    \n",
    "        \"\"\"\n",
    "    return prompet    \n",
    "\n",
    "    \n"
   ]
  },
  {
   "cell_type": "markdown",
   "id": "548f54f2-67ed-446b-b3e8-61ce1462f94a",
   "metadata": {},
   "source": [
    "Testing function if we pass more than one index and make model genrate (Will make Few Shots)"
   ]
  },
  {
   "cell_type": "code",
   "execution_count": 27,
   "id": "544146ac-626d-4427-983e-8383b4e6953e",
   "metadata": {},
   "outputs": [
    {
     "name": "stdout",
     "output_type": "stream",
     "text": [
      "\n",
      "Dialogue:\n",
      "#Person1#: What time is it, Tom?\n",
      "#Person2#: Just a minute. It's ten to nine by my watch.\n",
      "#Person1#: Is it? I had no idea it was so late. I must be off now.\n",
      "#Person2#: What's the hurry?\n",
      "#Person1#: I must catch the nine-thirty train.\n",
      "#Person2#: You've plenty of time yet. The railway station is very close. It won't take more than twenty minutes to get there.\n",
      "\n",
      "what's going On\n",
      "#Person1# is in a hurry to catch a train. Tom tells #Person1# there is plenty of time.\n",
      "        \n",
      "Dialogue:\n",
      "#Person1#: Yeah. Just pull on this strip. Then peel off the back.\n",
      "#Person2#: You might make a few enemies this way.\n",
      "#Person1#: If they don't think this is fun, they're not meant to be our friends.\n",
      "#Person2#: You mean your friends. I think it's cruel.\n",
      "#Person1#: Yeah. But it's fun. Look at those two ugly old ladies. . . or are they men?\n",
      "#Person2#: Hurry! Get a shot!. . . Hand it over!\n",
      "#Person1#: I knew you'd come around. . .\n",
      "\n",
      "what's going On\n",
      "#Person1# is about to make a prank. #Person2# thinks it's cruel at first but then joins.\n",
      "        \n",
      "Dialogue:\n",
      "#Person1#: Have you considered upgrading your system?\n",
      "#Person2#: Yes, but I'm not sure what exactly I would need.\n",
      "#Person1#: You could consider adding a painting program to your software. It would allow you to make up your own flyers and banners for advertising.\n",
      "#Person2#: That would be a definite bonus.\n",
      "#Person1#: You might also want to upgrade your hardware because it is pretty outdated now.\n",
      "#Person2#: How can we do that?\n",
      "#Person1#: You'd probably need a faster processor, to begin with. And you also need a more powerful hard disc, more memory and a faster modem. Do you have a CD-ROM drive?\n",
      "#Person2#: No.\n",
      "#Person1#: Then you might want to add a CD-ROM drive too, because most new software programs are coming out on Cds.\n",
      "#Person2#: That sounds great. Thanks.\n",
      "\n",
      "what's going On\n",
      "    \n",
      "        \n"
     ]
    }
   ],
   "source": [
    "example_indcies_full=[40,50]\n",
    "example_indcies_to_summarize=200\n",
    "print(make_prompet(example_indcies_full,example_indcies_to_summarize))"
   ]
  },
  {
   "cell_type": "markdown",
   "id": "931c7d85-0b0d-4e96-ba91-62f7109e385f",
   "metadata": {},
   "source": [
    "Now let's Make Few Shot inference/ After we make function make Prompet"
   ]
  },
  {
   "cell_type": "code",
   "execution_count": 26,
   "id": "43e5d10d-f70f-4f98-810e-c56e0ea515e2",
   "metadata": {},
   "outputs": [
    {
     "name": "stdout",
     "output_type": "stream",
     "text": [
      "___________________________________________________________________________________________________\n",
      "Example 1\n",
      "___________________________________________________________________________________________________\n",
      "Input Prompet:\n",
      "#Person1#: What time is it, Tom?\n",
      "#Person2#: Just a minute. It's ten to nine by my watch.\n",
      "#Person1#: Is it? I had no idea it was so late. I must be off now.\n",
      "#Person2#: What's the hurry?\n",
      "#Person1#: I must catch the nine-thirty train.\n",
      "#Person2#: You've plenty of time yet. The railway station is very close. It won't take more than twenty minutes to get there.\n",
      "___________________________________________________________________________________________________\n",
      "Human Summery:\n",
      "#Person1# is in a hurry to catch a train. Tom tells #Person1# there is plenty of time.\n",
      "___________________________________________________________________________________________________\n",
      "Model Summery With Prompet Engineering(Few_Shots):\n",
      "#Person1 wants to upgrade his system. #Person2 wants to add a painting program to his software. #Person1 wants to add a CD-ROM drive.\n",
      "___________________________________________________________________________________________________\n",
      "Example 2\n",
      "___________________________________________________________________________________________________\n",
      "Input Prompet:\n",
      "#Person1#: Have you considered upgrading your system?\n",
      "#Person2#: Yes, but I'm not sure what exactly I would need.\n",
      "#Person1#: You could consider adding a painting program to your software. It would allow you to make up your own flyers and banners for advertising.\n",
      "#Person2#: That would be a definite bonus.\n",
      "#Person1#: You might also want to upgrade your hardware because it is pretty outdated now.\n",
      "#Person2#: How can we do that?\n",
      "#Person1#: You'd probably need a faster processor, to begin with. And you also need a more powerful hard disc, more memory and a faster modem. Do you have a CD-ROM drive?\n",
      "#Person2#: No.\n",
      "#Person1#: Then you might want to add a CD-ROM drive too, because most new software programs are coming out on Cds.\n",
      "#Person2#: That sounds great. Thanks.\n",
      "___________________________________________________________________________________________________\n",
      "Human Summery:\n",
      "#Person1# teaches #Person2# how to upgrade software and hardware in #Person2#'s system.\n",
      "___________________________________________________________________________________________________\n",
      "Model Summery With Prompet Engineering(Few_Shots):\n",
      "#Person1 wants to upgrade his system. #Person2 wants to add a painting program to his software. #Person1 wants to add a CD-ROM drive.\n"
     ]
    }
   ],
   "source": [
    "for i,index in enumerate(example_indcies):\n",
    "    dialogue=dataset['test'][index]['dialogue']\n",
    "    summary=dataset['test'][index]['summary']\n",
    "    inputs=tokenizer(make_prompet([40,50],200),return_tensors='pt')\n",
    "    output=tokenizer.decode(\n",
    "        model.generate(\n",
    "            inputs[\"input_ids\"],\n",
    "            max_new_tokens=50,\n",
    "        )[0],\n",
    "        skip_special_tokens=True\n",
    "    )\n",
    "    print(dash_line)\n",
    "    print('Example',i+1)\n",
    "    print(dash_line)\n",
    "    print(f'Input Prompet:\\n{dialogue}')\n",
    "    print(dash_line)\n",
    "    print(f'Human Summery:\\n{summary}')\n",
    "    print(dash_line)\n",
    "    print(f'Model Summery With Prompet Engineering(Few_Shots):\\n{output}')\n"
   ]
  },
  {
   "cell_type": "markdown",
   "id": "97afead9-bbd8-4c73-ba5d-dec7ee13fdf2",
   "metadata": {},
   "source": [
    "Now let's Play With General Config"
   ]
  },
  {
   "cell_type": "code",
   "execution_count": 29,
   "id": "c02dd328-a464-40c1-a2df-7d5eaa62057c",
   "metadata": {},
   "outputs": [
    {
     "name": "stdout",
     "output_type": "stream",
     "text": [
      "___________________________________________________________________________________________________\n",
      "Example 1\n",
      "___________________________________________________________________________________________________\n",
      "Input Prompet:\n",
      "#Person1#: What time is it, Tom?\n",
      "#Person2#: Just a minute. It's ten to nine by my watch.\n",
      "#Person1#: Is it? I had no idea it was so late. I must be off now.\n",
      "#Person2#: What's the hurry?\n",
      "#Person1#: I must catch the nine-thirty train.\n",
      "#Person2#: You've plenty of time yet. The railway station is very close. It won't take more than twenty minutes to get there.\n",
      "___________________________________________________________________________________________________\n",
      "Human Summery:\n",
      "#Person1# is in a hurry to catch a train. Tom tells #Person1# there is plenty of time.\n",
      "___________________________________________________________________________________________________\n",
      "Model Summery With Prompet Engineering(Few_Shots):\n",
      "#Person1 wants to upgrade his system. #Person2 wants to add a painting program to his software. #Person1 wants to upgrade his hardware.\n",
      "___________________________________________________________________________________________________\n",
      "Example 2\n",
      "___________________________________________________________________________________________________\n",
      "Input Prompet:\n",
      "#Person1#: Have you considered upgrading your system?\n",
      "#Person2#: Yes, but I'm not sure what exactly I would need.\n",
      "#Person1#: You could consider adding a painting program to your software. It would allow you to make up your own flyers and banners for advertising.\n",
      "#Person2#: That would be a definite bonus.\n",
      "#Person1#: You might also want to upgrade your hardware because it is pretty outdated now.\n",
      "#Person2#: How can we do that?\n",
      "#Person1#: You'd probably need a faster processor, to begin with. And you also need a more powerful hard disc, more memory and a faster modem. Do you have a CD-ROM drive?\n",
      "#Person2#: No.\n",
      "#Person1#: Then you might want to add a CD-ROM drive too, because most new software programs are coming out on Cds.\n",
      "#Person2#: That sounds great. Thanks.\n",
      "___________________________________________________________________________________________________\n",
      "Human Summery:\n",
      "#Person1# teaches #Person2# how to upgrade software and hardware in #Person2#'s system.\n",
      "___________________________________________________________________________________________________\n",
      "Model Summery With Prompet Engineering(Few_Shots):\n",
      "#Person1 is considering upgrading his system. #Person2 is considering adding a painting program to his software.\n"
     ]
    }
   ],
   "source": [
    "genration_config=GenerationConfig(max_new_token=50)\n",
    "genration_config=GenerationConfig(max_new_token=50,do_sample=True,temperature=0.1)\n",
    "genration_config=GenerationConfig(max_new_token=50,do_sample=True,temperature=0.2)\n",
    "for i,index in enumerate(example_indcies):\n",
    "    dialogue=dataset['test'][index]['dialogue']\n",
    "    summary=dataset['test'][index]['summary']\n",
    "    inputs=tokenizer(make_prompet([40,50],200),return_tensors='pt')\n",
    "    output=tokenizer.decode(\n",
    "        model.generate(\n",
    "            inputs[\"input_ids\"],\n",
    "            generation_config=genration_config,\n",
    "            max_new_tokens=50,\n",
    "        )[0],\n",
    "        skip_special_tokens=True\n",
    "    )\n",
    "    print(dash_line)\n",
    "    print('Example',i+1)\n",
    "    print(dash_line)\n",
    "    print(f'Input Prompet:\\n{dialogue}')\n",
    "    print(dash_line)\n",
    "    print(f'Human Summery:\\n{summary}')\n",
    "    print(dash_line)\n",
    "    print(f'Model Summery With Prompet Engineering(Few_Shots):\\n{output}')\n"
   ]
  },
  {
   "cell_type": "code",
   "execution_count": null,
   "id": "009034a9-0296-418d-bbf1-e450d2715bc4",
   "metadata": {},
   "outputs": [],
   "source": []
  }
 ],
 "metadata": {
  "kernelspec": {
   "display_name": "Python 3 (ipykernel)",
   "language": "python",
   "name": "python3"
  },
  "language_info": {
   "codemirror_mode": {
    "name": "ipython",
    "version": 3
   },
   "file_extension": ".py",
   "mimetype": "text/x-python",
   "name": "python",
   "nbconvert_exporter": "python",
   "pygments_lexer": "ipython3",
   "version": "3.12.0"
  }
 },
 "nbformat": 4,
 "nbformat_minor": 5
}
